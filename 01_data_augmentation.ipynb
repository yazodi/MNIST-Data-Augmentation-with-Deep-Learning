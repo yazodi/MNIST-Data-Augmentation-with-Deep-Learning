{
 "cells": [
  {
   "cell_type": "markdown",
   "id": "3c5e3b29-9fcc-4f1d-abdc-6ac77d0d7d36",
   "metadata": {},
   "source": [
    "Aman Kharwal tarafından 20 Temmuz 2020'de yayımlanan \"Data Augmentation in Deep Learning\" başlıklı makalede, derin öğrenmede veri artırma (data augmentation) teknikleri ele alınmıştır. Makale, özellikle görüntü verileri üzerinde yapılan dönüşümlerle model performansının nasıl artırılabileceğini ve aşırı öğrenmenin (overfitting) nasıl önlenebileceğini göstermektedir."
   ]
  },
  {
   "cell_type": "markdown",
   "id": "fd58315b-9c5a-417f-b929-0906575c4bf3",
   "metadata": {},
   "source": [
    "## Projede Yapılanlar\n",
    "\n",
    "## Veri Artırmanın Tanıtımı:\n",
    "Veri artırma, mevcut veri setine çeşitli dönüşümler uygulayarak yeni veriler oluşturma sürecidir. Bu teknik, modelin genelleme yeteneğini artırmak ve aşırı öğrenmeyi azaltmak için kullanılır.\n",
    "\n",
    "## TensorFlow ile Görüntü Dönüşümleri:\n",
    "Makale, TensorFlow kullanarak çeşitli görüntü dönüşümleri gerçekleştirmiştir. Bu dönüşümler arasında yatay çevirme, gri tonlamaya dönüştürme, doygunluk ayarı, parlaklık ayarı, 90 derece döndürme ve merkezi kırpma bulunmaktadır.\n",
    "\n",
    "## MNIST Veri Seti Üzerinde Uygulama:\n",
    "Yukarıda belirtilen dönüşümler, MNIST veri setine uygulanarak veri seti genişletilmiş ve bu genişletilmiş veri seti ile bir derin öğrenme modeli eğitilmiştir."
   ]
  },
  {
   "cell_type": "markdown",
   "id": "c5a7f332-b6c1-4384-a47a-a9aae80c9006",
   "metadata": {},
   "source": [
    "## Kullanılan Teknikler\n",
    "Yatay Çevirme: Görüntüyü yatay eksende ters çevirme.\n",
    "\n",
    "Gri Tonlama: Renkli görüntüyü gri tonlamaya dönüştürme.\n",
    "\n",
    "Doygunluk Ayarı: Görüntünün renk doygunluğunu artırma veya azaltma.\n",
    "\n",
    "Parlaklık Ayarı: Görüntünün parlaklığını artırma veya azaltma.\n",
    "\n",
    "Döndürme: Görüntüyü 90 derece döndürme.\n",
    "\n",
    "Kırpma: Görüntünün merkezi kısmını kırpma.\n",
    "\n",
    "## Sonuç\n",
    "Makale, veri artırma tekniklerinin derin öğrenme modellerinin performansını artırmada ve aşırı öğrenmeyi önlemede etkili olduğunu göstermektedir. Özellikle sınırlı veri setleriyle çalışırken, bu tür tekniklerin kullanılması modelin genelleme yeteneğini artırabilir.\n",
    "\n",
    "Daha fazla bilgi için makalenin tamamına [buradan](https://amanxai.com/2020/07/20/data-augmentation-in-deep-learning/) ulaşabilirsiniz."
   ]
  },
  {
   "cell_type": "code",
   "execution_count": 3,
   "id": "74eef78f-5d75-4e1c-aa5d-8ec2b14737b4",
   "metadata": {},
   "outputs": [
    {
     "data": {
      "image/png": "[encoded data removed]",
      "text/plain": [
       "<Figure size 1200x400 with 10 Axes>"
      ]
     },
     "metadata": {},
     "output_type": "display_data"
    },
    {
     "name": "stdout",
     "output_type": "stream",
     "text": [
      "Epoch 1/5\n"
     ]
    },
    {
     "name": "stderr",
     "output_type": "stream",
     "text": [
      "C:\\ProgramData\\anaconda3\\Lib\\site-packages\\keras\\src\\layers\\convolutional\\base_conv.py:113: UserWarning: Do not pass an `input_shape`/`input_dim` argument to a layer. When using Sequential models, prefer using an `Input(shape)` object as the first layer in the model instead.\n",
      "  super().__init__(activity_regularizer=activity_regularizer, **kwargs)\n"
     ]
    },
    {
     "name": "stdout",
     "output_type": "stream",
     "text": [
      "\u001b[1m938/938\u001b[0m \u001b[32m━━━━━━━━━━━━━━━━━━━━\u001b[0m\u001b[37m\u001b[0m \u001b[1m12s\u001b[0m 12ms/step - accuracy: 0.8397 - loss: 0.5200 - val_accuracy: 0.9635 - val_loss: 0.1145\n",
      "Epoch 2/5\n",
      "\u001b[1m938/938\u001b[0m \u001b[32m━━━━━━━━━━━━━━━━━━━━\u001b[0m\u001b[37m\u001b[0m \u001b[1m11s\u001b[0m 12ms/step - accuracy: 0.9678 - loss: 0.1089 - val_accuracy: 0.9692 - val_loss: 0.0930\n",
      "Epoch 3/5\n",
      "\u001b[1m938/938\u001b[0m \u001b[32m━━━━━━━━━━━━━━━━━━━━\u001b[0m\u001b[37m\u001b[0m \u001b[1m12s\u001b[0m 12ms/step - accuracy: 0.9765 - loss: 0.0756 - val_accuracy: 0.9768 - val_loss: 0.0718\n",
      "Epoch 4/5\n",
      "\u001b[1m938/938\u001b[0m \u001b[32m━━━━━━━━━━━━━━━━━━━━\u001b[0m\u001b[37m\u001b[0m \u001b[1m12s\u001b[0m 12ms/step - accuracy: 0.9817 - loss: 0.0578 - val_accuracy: 0.9825 - val_loss: 0.0551\n",
      "Epoch 5/5\n",
      "\u001b[1m938/938\u001b[0m \u001b[32m━━━━━━━━━━━━━━━━━━━━\u001b[0m\u001b[37m\u001b[0m \u001b[1m13s\u001b[0m 14ms/step - accuracy: 0.9859 - loss: 0.0485 - val_accuracy: 0.9814 - val_loss: 0.0596\n"
     ]
    },
    {
     "name": "stderr",
     "output_type": "stream",
     "text": [
      "WARNING:absl:You are saving your model as an HDF5 file via `model.save()` or `keras.saving.save_model(model)`. This file format is considered legacy. We recommend using instead the native Keras format, e.g. `model.save('my_model.keras')` or `keras.saving.save_model(model, 'my_model.keras')`. \n"
     ]
    }
   ],
   "source": [
    "# 1. Gerekli Kütüphaneleri Yükle\n",
    "import tensorflow as tf\n",
    "import matplotlib.pyplot as plt\n",
    "import numpy as np\n",
    "\n",
    "# 2. MNIST Verisini Yükle\n",
    "(x_train, y_train), (x_test, y_test) = tf.keras.datasets.mnist.load_data()\n",
    "\n",
    "# Normalize et ve boyutu (28, 28, 1) yap\n",
    "x_train = x_train.astype(\"float32\") / 255.0\n",
    "x_test = x_test.astype(\"float32\") / 255.0\n",
    "x_train = np.expand_dims(x_train, -1)\n",
    "x_test = np.expand_dims(x_test, -1)\n",
    "\n",
    "# 3. Görüntü Artırma Fonksiyonları\n",
    "def augment(image):\n",
    "    image = tf.image.random_flip_left_right(image)\n",
    "    image = tf.image.random_brightness(image, max_delta=0.1)\n",
    "    image = tf.image.random_contrast(image, 0.8, 1.2)\n",
    "    return image\n",
    "\n",
    "# 4. Örnek Görseller ve Artırılmış Hali\n",
    "def show_augmented_images():\n",
    "    fig, axs = plt.subplots(2, 5, figsize=(12, 4))\n",
    "    for i in range(5):\n",
    "        original = x_train[i]\n",
    "        augmented = augment(original)\n",
    "        axs[0, i].imshow(original.squeeze(), cmap='gray')\n",
    "        axs[0, i].set_title(\"Orijinal\")\n",
    "        axs[1, i].imshow(augmented.numpy().squeeze(), cmap='gray')\n",
    "        axs[1, i].set_title(\"Artırılmış\")\n",
    "    plt.tight_layout()\n",
    "    plt.show()\n",
    "\n",
    "show_augmented_images()\n",
    "\n",
    "# 5. Veri Setini TF Dataset'e Dönüştür\n",
    "batch_size = 64\n",
    "\n",
    "train_ds = (\n",
    "    tf.data.Dataset.from_tensor_slices((x_train, y_train))\n",
    "    .shuffle(buffer_size=1024)\n",
    "    .map(lambda x, y: (augment(x), y))\n",
    "    .batch(batch_size)\n",
    "    .prefetch(tf.data.AUTOTUNE)\n",
    ")\n",
    "\n",
    "test_ds = tf.data.Dataset.from_tensor_slices((x_test, y_test)).batch(batch_size)\n",
    "\n",
    "# 6. Basit CNN Modeli\n",
    "model = tf.keras.Sequential([\n",
    "    tf.keras.layers.Conv2D(32, 3, activation='relu', input_shape=(28,28,1)),\n",
    "    tf.keras.layers.MaxPooling2D(),\n",
    "    tf.keras.layers.Conv2D(64, 3, activation='relu'),\n",
    "    tf.keras.layers.MaxPooling2D(),\n",
    "    tf.keras.layers.Flatten(),\n",
    "    tf.keras.layers.Dense(128, activation='relu'),\n",
    "    tf.keras.layers.Dense(10, activation='softmax')\n",
    "])\n",
    "\n",
    "# 7. Derleme ve Eğitim\n",
    "model.compile(optimizer='adam',\n",
    "              loss='sparse_categorical_crossentropy',\n",
    "              metrics=['accuracy'])\n",
    "\n",
    "history = model.fit(train_ds, validation_data=test_ds, epochs=5)\n",
    "\n",
    "# 8. Kaydetme (Streamlit ve Huggingface için)\n",
    "model.save(\"mnist_augmented_model.h5\")\n"
   ]
  },
  {
   "cell_type": "markdown",
   "id": "f0737833-b54a-43cf-b5fb-b8cef06a7196",
   "metadata": {},
   "source": []
  },
  {
   "cell_type": "markdown",
   "id": "c0413c8f-8f5c-4771-aa66-fb3253e6aaa8",
   "metadata": {},
   "source": []
  },
  {
   "cell_type": "markdown",
   "id": "644e7308-04c2-41f4-86de-9f8a141daa92",
   "metadata": {},
   "source": []
  },
  {
   "cell_type": "markdown",
   "id": "eed5c6b9-3163-416f-89ba-cd4d0b571b72",
   "metadata": {},
   "source": []
  },
  {
   "cell_type": "code",
   "execution_count": null,
   "id": "11e6b7d8-b78a-4956-a6b4-a29fd65990a5",
   "metadata": {},
   "outputs": [],
   "source": []
  },
  {
   "cell_type": "code",
   "execution_count": null,
   "id": "4b7d9643-8953-440f-8bc0-531d1920b7d5",
   "metadata": {},
   "outputs": [],
   "source": []
  },
  {
   "cell_type": "code",
   "execution_count": null,
   "id": "9af35f27-ca2e-4985-bb7a-ab7ae2b40a16",
   "metadata": {},
   "outputs": [],
   "source": []
  },
  {
   "cell_type": "code",
   "execution_count": null,
   "id": "0472ad8d-2666-44b2-b32a-bd73da471a46",
   "metadata": {},
   "outputs": [],
   "source": []
  },
  {
   "cell_type": "code",
   "execution_count": null,
   "id": "d095d0f5-166f-4538-ba61-6d1654a7b9a4",
   "metadata": {},
   "outputs": [],
   "source": []
  },
  {
   "cell_type": "code",
   "execution_count": null,
   "id": "62ba32aa-de38-4257-8fb6-9b22a117b9ae",
   "metadata": {},
   "outputs": [],
   "source": []
  },
  {
   "cell_type": "code",
   "execution_count": null,
   "id": "d7921160-d9ef-4254-bb1f-3f98e57f07e8",
   "metadata": {},
   "outputs": [],
   "source": []
  }
 ],
 "metadata": {
  "kernelspec": {
   "display_name": "Python 3 (ipykernel)",
   "language": "python",
   "name": "python3"
  },
  "language_info": {
   "codemirror_mode": {
    "name": "ipython",
    "version": 3
   },
   "file_extension": ".py",
   "mimetype": "text/x-python",
   "name": "python",
   "nbconvert_exporter": "python",
   "pygments_lexer": "ipython3",
   "version": "3.12.9"
  }
 },
 "nbformat": 4,
 "nbformat_minor": 5
}
